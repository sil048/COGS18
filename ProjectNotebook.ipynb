{
 "cells": [
  {
   "cell_type": "markdown",
   "metadata": {},
   "source": [
    "# Project Description"
   ]
  },
  {
   "cell_type": "markdown",
   "metadata": {},
   "source": [
    "Procrastination is a problem that everyone (I assume?) has in our everyday life. Here, this project will deal with this issue in a fun way that may potentially help the user to cope with procrastination. \n",
    "\n",
    "Specifically, this project is a \"What type of procrastinator are you?\" personality quiz that will eventually lead the user to one of the five types of procrastinator. First, the quiz will ask for the user's name, then, when ready, the user will be automatically guided to the first question. The answer to the first question will then determine which question the user will answer next. After answering about 6 to 8 questions, the user will see their procrastinator type and will be given a choice to learn more, obtain tips and a special procrastinator profile. Throughout the quiz, the user can quit at anytime. Note that the result may not be accurate and is just a suggestion."
   ]
  },
  {
   "cell_type": "markdown",
   "metadata": {},
   "source": [
    "## Project Code"
   ]
  },
  {
   "cell_type": "code",
   "execution_count": 1,
   "metadata": {
    "scrolled": true
   },
   "outputs": [
    {
     "name": "stdout",
     "output_type": "stream",
     "text": [
      "\u001b[1m============================= test session starts ==============================\u001b[0m\r\n",
      "platform darwin -- Python 3.8.8, pytest-6.2.3, py-1.10.0, pluggy-0.13.1\r\n",
      "rootdir: /Users/sunnyli/Desktop/School/0 COGS 18/Final Project/Final Project_Sunny Li\r\n",
      "plugins: anyio-2.2.0\r\n",
      "\u001b[1mcollecting ... \u001b[0m\u001b[1m\r",
      "collected 4 items                                                              \u001b[0m\r\n",
      "\r\n",
      "my_module/test_functions.py \u001b[32m.\u001b[0m\u001b[32m.\u001b[0m\u001b[32m.\u001b[0m\u001b[32m.\u001b[0m\u001b[32m                                         [100%]\u001b[0m\r\n",
      "\r\n",
      "\u001b[32m============================== \u001b[32m\u001b[1m4 passed\u001b[0m\u001b[32m in 0.02s\u001b[0m\u001b[32m ===============================\u001b[0m\r\n"
     ]
    }
   ],
   "source": [
    "from my_module import functions\n",
    "!pytest"
   ]
  },
  {
   "cell_type": "code",
   "execution_count": 2,
   "metadata": {},
   "outputs": [
    {
     "name": "stdout",
     "output_type": "stream",
     "text": [
      "\n",
      "\n",
      "\u001b[34m ~~~~~~~~~~~~~~~~~~~~~~~~~~~~~~~~~~~~~~~~ \n",
      "\u001b[36m  _______________________________________ \n",
      " /______________________________________/|\n",
      " |                                      ||\n",
      " | WHAT TYPE OF PROCRASTINATOR ARE YOU? ||\n",
      " |______________________________________|/\n",
      "\n",
      "\u001b[34m ~~~~~~~~~~~~~~~~~~~~~~~~~~~~~~~~~~~~~~~~ \n",
      "\n",
      "\u001b[31mAre you a  😈  or  🧐  or  🤐  or  😶  or  🐓?\n",
      "\n",
      "\n",
      "\u001b[35m🐑🐬🐋                ---- by Sny L  ʕ•́ᴥ•̀ʔっ♡\n",
      "\n",
      "\n",
      "\u001b[0m\n",
      "What's your name?Anonymous\n",
      "Hi Anonymous! Are you interested in knowing yourself more? Do you know why you procrastinate in work?\n",
      "In this quiz, you will be answering a series of simple but fun questions\n",
      "that will eventually tell you what type of procrastinator you are.\n",
      "Earphones on! You may listen to Kahoot the entire time while answering the quiz!\n",
      "Are you ready? (enter Yes, or No)Yes\n",
      "In order for us to evaluate you accurately, you may type in the answer instructed in the question\n",
      "(any case or spacing is fine! unless specifically told to write 'strictly')\n",
      "If you wanna end the quiz, type anything other than the choices given.\n",
      "Are you good at meeting deadlines? (enter A, B, or C)\n",
      "A) I'll start working at the last minute\n",
      "B) I bury my head in the sand until it's too late\n",
      "C) Deadlines?! Panic Stations!A\n",
      "Do you work well under pressure? (enter A, or B)\n",
      "A) Sure - pressure makes diamonds after all\n",
      "B) I crumble like a wet biscuitA\n",
      "Are you happy making important decisions? (enter A, or B)\n",
      "A) I'm a natural leader\n",
      "B) Too much drama - let someone else decide B\n",
      "Do you worry about what others think of you? (enter A, or B)\n",
      "A) Who cares? Sticks and stones...\n",
      "B) Oh no! What are they saying about me now?B\n",
      "Are you ever happy with your work? (enter A, or B)\n",
      "A) I think I do a pretty good job\n",
      "B) Nothing less than perfection will doA\n",
      "Are you afraid of failure? (enter A, or B)\n",
      "A) Of course! I don't want to feel useless\n",
      "B) I let other people take the heatA\n",
      "You are an Ostrich😶! Do you want to learn more about Ostrich? (enter Yes, or No)Yes\n",
      "\n",
      "\u001b[46mYou like to stick your head in the sand and ignore the tasks at hand -\n",
      "avoiding having to make decisions.\n",
      "\n",
      "If you don't make a decision, then you don't risk failing or being judged.\n",
      "note: this is just an interpretation, do not treat it too seriously!\n",
      "\n",
      "Would you want some tips for dealing with procrastination? (enter Yes, or No)No\n",
      "No problem, hope you enjoyed taking the quiz! See you around!\n"
     ]
    }
   ],
   "source": [
    "functions.start()"
   ]
  },
  {
   "cell_type": "markdown",
   "metadata": {},
   "source": [
    "#### Extra Credit (*optional*) \n",
    "1. I have absolutely no coding experience before taking COGS 18.\n",
    "2. I believe my project went above and beyond the requirements because I have 12 functions in total, which is above the requirement. I also challenged myself to import the modules webbrowser, time, colorama, which can automatically open webpages, make a time delay for the text responses (to increase user readability), change the fore and background color of the texts (to increase user readability and aesthetics), respectively; these are not taught in class. In addition, writing functions within a function for all my functions is also a challenging step since I need the chatbot to ask different questions depending on the answer to the previous question. To improve, I would write the test functions more specifically and try to test what the output will be given a specific input.\n",
    "\n",
    "Though challenging, I was addicted to this project, and had a lot of fun!"
   ]
  }
 ],
 "metadata": {
  "kernelspec": {
   "display_name": "Python 3 (ipykernel)",
   "language": "python",
   "name": "python3"
  },
  "language_info": {
   "codemirror_mode": {
    "name": "ipython",
    "version": 3
   },
   "file_extension": ".py",
   "mimetype": "text/x-python",
   "name": "python",
   "nbconvert_exporter": "python",
   "pygments_lexer": "ipython3",
   "version": "3.9.7"
  }
 },
 "nbformat": 4,
 "nbformat_minor": 2
}
