{
 "cells": [
  {
   "cell_type": "markdown",
   "metadata": {},
   "source": [
    "# Project Description"
   ]
  },
  {
   "cell_type": "markdown",
   "metadata": {},
   "source": [
    "Procrastination is a problem that everyone (I assume?) has in our everyday life. Here, this project will deal with this issue in a fun way that may potentially help the user to cope with procrastination. \n",
    "\n",
    "Specifically, this project is a \"What type of procrastinator are you?\" personality quiz that will eventually lead the user to one of the five types of procrastinator. First, the quiz will ask for the user's name, then, when ready, the user will be automatically guided to the first question. The answer to the first question will then determine which question the user will answer next. After answering about 6 to 8 questions, the user will see their procrastinator type and will be given a choice to learn more, obtain tips and a special procrastinator profile. Throughout the quiz, the user can quit at anytime. Note that the result may not be accurate and is just a suggestion."
   ]
  },
  {
   "cell_type": "markdown",
   "metadata": {},
   "source": [
    "## Project Code"
   ]
  },
  {
   "cell_type": "code",
   "execution_count": 1,
   "metadata": {
    "scrolled": true
   },
   "outputs": [
    {
     "name": "stdout",
     "output_type": "stream",
     "text": [
      "\u001b[1m============================= test session starts ==============================\u001b[0m\n",
      "platform darwin -- Python 3.8.8, pytest-6.2.3, py-1.10.0, pluggy-0.13.1\n",
      "rootdir: /Users/sunnyli/Desktop/School/0 COGS 18/Final Project/Final Project_Sunny Li\n",
      "plugins: anyio-2.2.0\n",
      "collected 4 items                                                              \u001b[0m\n",
      "\n",
      "my_module/test_functions.py \u001b[32m.\u001b[0m\u001b[32m.\u001b[0m\u001b[32m.\u001b[0m\u001b[32m.\u001b[0m\u001b[32m                                         [100%]\u001b[0m\n",
      "\n",
      "\u001b[32m============================== \u001b[32m\u001b[1m4 passed\u001b[0m\u001b[32m in 0.02s\u001b[0m\u001b[32m ===============================\u001b[0m\n"
     ]
    }
   ],
   "source": [
    "from my_module import functions\n",
    "!pytest"
   ]
  },
  {
   "cell_type": "markdown",
   "metadata": {},
   "source": [
    "Uncomment below to start the quiz!"
   ]
  },
  {
   "cell_type": "code",
   "execution_count": null,
   "metadata": {},
   "outputs": [],
   "source": [
    "#functions.start()"
   ]
  },
  {
   "cell_type": "markdown",
   "metadata": {},
   "source": [
    "#### Extra Credit (*optional*) \n",
    "1. I have absolutely no coding experience before taking COGS 18.\n",
    "2. I believe my project went above and beyond the requirements because I have 12 functions in total, which is above the requirement. I also challenged myself to import the modules webbrowser, time, colorama, which can automatically open webpages, make a time delay for the text responses (to increase user readability), change the fore and background color of the texts (to increase user readability and aesthetics), respectively; these are not taught in class. In addition, writing functions within a function for all my functions is also a challenging step since I need the chatbot to ask different questions depending on the answer to the previous question. To improve, I would write the test functions more specifically and try to test what the output will be given a specific input.\n",
    "\n",
    "Though challenging, I was addicted to this project, and had a lot of fun!"
   ]
  }
 ],
 "metadata": {
  "kernelspec": {
   "display_name": "Python 3 (ipykernel)",
   "language": "python",
   "name": "python3"
  },
  "language_info": {
   "codemirror_mode": {
    "name": "ipython",
    "version": 3
   },
   "file_extension": ".py",
   "mimetype": "text/x-python",
   "name": "python",
   "nbconvert_exporter": "python",
   "pygments_lexer": "ipython3",
   "version": "3.9.7"
  }
 },
 "nbformat": 4,
 "nbformat_minor": 2
}
